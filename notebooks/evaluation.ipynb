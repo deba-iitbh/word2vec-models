{
 "cells": [
  {
   "cell_type": "code",
   "execution_count": 1,
   "id": "ef6f8ffe-0714-4f26-95b1-35d5e48e7839",
   "metadata": {},
   "outputs": [],
   "source": [
    "import torch\n",
    "import pandas as pd\n",
    "# from src.model import Word2VecModel\n",
    "from src.dataset import Word2VecDataset\n",
    "from torch.utils.data import DataLoader\n",
    "from collections import Counter, defaultdict\n",
    "import tqdm"
   ]
  },
  {
   "cell_type": "code",
   "execution_count": 6,
   "id": "f2e61c7d-45b5-42f5-b4f8-09c576e8c46f",
   "metadata": {},
   "outputs": [],
   "source": [
    "saved_params = torch.load(\"model/model_cbow_neg0.pth\")"
   ]
  },
  {
   "cell_type": "code",
   "execution_count": 7,
   "id": "38d557e7-c793-48fc-af68-66deb7403371",
   "metadata": {},
   "outputs": [
    {
     "data": {
      "text/plain": [
       "dict_keys(['model_state_dict', 'losses', 'word_to_ix', 'ix_to_word'])"
      ]
     },
     "execution_count": 7,
     "metadata": {},
     "output_type": "execute_result"
    }
   ],
   "source": [
    "saved_params.keys()"
   ]
  },
  {
   "cell_type": "code",
   "execution_count": 8,
   "id": "005a29e1-892f-4b54-876b-fd9950e3676f",
   "metadata": {},
   "outputs": [],
   "source": [
    "word_idx = saved_params[\"word_to_ix\"]\n",
    "idx_word = saved_params[\"ix_to_word\"]\n",
    "losses = saved_params[\"losses\"]"
   ]
  },
  {
   "cell_type": "code",
   "execution_count": 9,
   "id": "f579ed73-feca-4841-8a80-008ed04fa876",
   "metadata": {},
   "outputs": [],
   "source": [
    "model = Word2VecModel(\"cbow\", 100, len(word_idx))"
   ]
  },
  {
   "cell_type": "code",
   "execution_count": 10,
   "id": "c2bd5979-57ce-4ea4-8843-c289e39d906a",
   "metadata": {},
   "outputs": [
    {
     "data": {
      "text/plain": [
       "<All keys matched successfully>"
      ]
     },
     "execution_count": 10,
     "metadata": {},
     "output_type": "execute_result"
    }
   ],
   "source": [
    "model.load_state_dict(saved_params[\"model_state_dict\"])"
   ]
  },
  {
   "cell_type": "code",
   "execution_count": 15,
   "id": "8ef17cef-aca2-48ed-9e4b-62cf100a88d9",
   "metadata": {},
   "outputs": [
    {
     "data": {
      "text/plain": [
       "Word2VecModel(\n",
       "  (embeddings_input): Embedding(1642, 100)\n",
       "  (linear): Linear(in_features=100, out_features=1642, bias=True)\n",
       ")"
      ]
     },
     "execution_count": 15,
     "metadata": {},
     "output_type": "execute_result"
    }
   ],
   "source": [
    "model.eval()"
   ]
  },
  {
   "cell_type": "code",
   "execution_count": 31,
   "id": "9df427ce-ec03-4a34-9780-9f3dddf47bff",
   "metadata": {},
   "outputs": [
    {
     "data": {
      "text/plain": [
       "-1"
      ]
     },
     "execution_count": 31,
     "metadata": {},
     "output_type": "execute_result"
    }
   ],
   "source": [
    "word_idx.get(\"queen\",-1)"
   ]
  },
  {
   "cell_type": "code",
   "execution_count": null,
   "id": "70d586d0-edfb-40bb-b428-0c72bda6fb07",
   "metadata": {},
   "outputs": [],
   "source": []
  }
 ],
 "metadata": {
  "kernelspec": {
   "display_name": "Python 3 (ipykernel)",
   "language": "python",
   "name": "python3"
  },
  "language_info": {
   "codemirror_mode": {
    "name": "ipython",
    "version": 3
   },
   "file_extension": ".py",
   "mimetype": "text/x-python",
   "name": "python",
   "nbconvert_exporter": "python",
   "pygments_lexer": "ipython3",
   "version": "3.9.12"
  }
 },
 "nbformat": 4,
 "nbformat_minor": 5
}
